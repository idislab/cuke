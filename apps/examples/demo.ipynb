{
 "cells": [
  {
   "cell_type": "code",
   "execution_count": 2,
   "id": "initial_id",
   "metadata": {
    "collapsed": true,
    "ExecuteTime": {
     "end_time": "2023-12-13T16:34:44.046629Z",
     "start_time": "2023-12-13T16:34:41.839635Z"
    }
   },
   "outputs": [],
   "source": [
    "import torch\n",
    "from asg import Tensor, Var, apply\n",
    "from asg2ir import gen_ir\n",
    "import codegen\n",
    "import run"
   ]
  },
  {
   "cell_type": "code",
   "execution_count": 3,
   "outputs": [],
   "source": [
    "def test1():\n",
    "    A = Tensor((10, 20))\n",
    "    B = Tensor((10, 20))\n",
    "    res = A + B - 1\n",
    "    code = codegen.cpu.print_cpp(gen_ir(res))\n",
    "    print(code)\n",
    "\n",
    "    A = torch.rand(10, 20)\n",
    "    B = torch.rand(10, 20)\n",
    "\n",
    "    d = run.cpu.compile_and_run(code, A, B)\n",
    "    print(torch.equal(A + B - 1, d))"
   ],
   "metadata": {
    "collapsed": false,
    "ExecuteTime": {
     "end_time": "2023-12-13T16:34:58.581675Z",
     "start_time": "2023-12-13T16:34:58.578693Z"
    }
   },
   "id": "7efce516283e56b1"
  },
  {
   "cell_type": "code",
   "execution_count": 5,
   "outputs": [
    {
     "name": "stdout",
     "output_type": "stream",
     "text": [
      "#include <torch/extension.h>\n",
      "\n",
      "\n",
      "torch::Tensor sub_add___owajlilg(torch::Tensor obj_arr25, torch::Tensor obj_arr28)\n",
      "{\n",
      "    auto arr25 = obj_arr25.accessor<float, 2>();\n",
      "auto arr28 = obj_arr28.accessor<float, 2>();\n",
      "torch::Tensor obj_arr39 = torch::empty({10,20}, at::kFloat);\n",
      "auto arr39 = obj_arr39.accessor<float, 2>();\n",
      "for (int _l6 = 0; _l6 < 10; _l6 += 1) {\n",
      "for (int _l7 = 0; _l7 < 20; _l7 += 1) {\n",
      "arr39[_l6][_l7] = ((arr25[_l6][_l7] + arr28[_l6][_l7]) - 1);\n",
      "} \n",
      "} \n",
      "return obj_arr39;\n",
      "\n",
      "}\n",
      "\n",
      "PYBIND11_MODULE(TORCH_EXTENSION_NAME, m) {\n",
      "    m.def(\"run\", &sub_add___owajlilg);\n",
      "}\n",
      "True\n"
     ]
    }
   ],
   "source": [
    "test1()"
   ],
   "metadata": {
    "collapsed": false,
    "ExecuteTime": {
     "end_time": "2023-12-13T16:36:24.190452Z",
     "start_time": "2023-12-13T16:36:15.329883Z"
    }
   },
   "id": "4d243f68771440c0"
  },
  {
   "cell_type": "code",
   "execution_count": null,
   "outputs": [],
   "source": [],
   "metadata": {
    "collapsed": false
   },
   "id": "8f080007aaeff6ae"
  },
  {
   "cell_type": "markdown",
   "source": [],
   "metadata": {
    "collapsed": false
   },
   "id": "a3217ce733304273"
  }
 ],
 "metadata": {
  "kernelspec": {
   "display_name": "Python 3",
   "language": "python",
   "name": "python3"
  },
  "language_info": {
   "codemirror_mode": {
    "name": "ipython",
    "version": 2
   },
   "file_extension": ".py",
   "mimetype": "text/x-python",
   "name": "python",
   "nbconvert_exporter": "python",
   "pygments_lexer": "ipython2",
   "version": "2.7.6"
  }
 },
 "nbformat": 4,
 "nbformat_minor": 5
}
