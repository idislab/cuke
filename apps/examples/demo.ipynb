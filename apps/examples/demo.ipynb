{
 "cells": [
  {
   "cell_type": "code",
   "execution_count": 3,
   "outputs": [],
   "source": [
    "import torch\n",
    "from asg import Tensor, Var, apply\n",
    "from asg2ir import gen_ir\n",
    "import codegen"
   ],
   "metadata": {
    "collapsed": false,
    "ExecuteTime": {
     "end_time": "2023-12-13T17:23:22.964750Z",
     "start_time": "2023-12-13T17:23:22.962264Z"
    }
   },
   "id": "de78f15bd442e611"
  },
  {
   "cell_type": "code",
   "execution_count": 4,
   "outputs": [
    {
     "name": "stdout",
     "output_type": "stream",
     "text": [
      "#include <torch/extension.h>\n",
      "\n",
      "\n",
      "torch::Tensor sub_add___yqqklxnb(torch::Tensor obj_arr2, torch::Tensor obj_arr5)\n",
      "{\n",
      "    auto arr2 = obj_arr2.accessor<float, 2>();\n",
      "auto arr5 = obj_arr5.accessor<float, 2>();\n",
      "torch::Tensor obj_arr16 = torch::empty({10,20}, at::kFloat);\n",
      "auto arr16 = obj_arr16.accessor<float, 2>();\n",
      "for (int _l2 = 0; _l2 < 10; _l2 += 1) {\n",
      "for (int _l3 = 0; _l3 < 20; _l3 += 1) {\n",
      "arr16[_l2][_l3] = ((arr2[_l2][_l3] + arr5[_l2][_l3]) - 1);\n",
      "} \n",
      "} \n",
      "return obj_arr16;\n",
      "\n",
      "}\n",
      "\n",
      "PYBIND11_MODULE(TORCH_EXTENSION_NAME, m) {\n",
      "    m.def(\"run\", &sub_add___yqqklxnb);\n",
      "}\n"
     ]
    }
   ],
   "source": [
    "def test1():\n",
    "    A = Tensor((10, 20))\n",
    "    B = Tensor((10, 20))\n",
    "    res = A + B - 1\n",
    "    code = codegen.cpu.print_cpp(gen_ir(res))\n",
    "    print(code)\n",
    "\n",
    "test1()"
   ],
   "metadata": {
    "collapsed": false,
    "ExecuteTime": {
     "end_time": "2023-12-13T17:23:22.974108Z",
     "start_time": "2023-12-13T17:23:22.969549Z"
    }
   },
   "id": "cb5f187f8698705e"
  }
 ],
 "metadata": {
  "kernelspec": {
   "display_name": "Python 3",
   "language": "python",
   "name": "python3"
  },
  "language_info": {
   "codemirror_mode": {
    "name": "ipython",
    "version": 2
   },
   "file_extension": ".py",
   "mimetype": "text/x-python",
   "name": "python",
   "nbconvert_exporter": "python",
   "pygments_lexer": "ipython2",
   "version": "2.7.6"
  }
 },
 "nbformat": 4,
 "nbformat_minor": 5
}
